{
 "cells": [
  {
   "cell_type": "markdown",
   "id": "7ec5e007",
   "metadata": {},
   "source": [
    "# Topyfic Downstream Analysis\n",
    "\n",
    "### *Narges Rezaie*\n",
    "#### Vignette built on Aug, 2024 with Topyfic version 0.4.13.\n",
    "\n",
    "The aim of this tutorials is to show how to perform downstream analysis after running the [Snakemake pipeline]().\n",
    "\n",
    "## Snakemake pipeline\n",
    "You should run snakemake first and decide which #topic you want to go with. You also need to make sure that you have `train`, `topModel`, and `analysis` objects in your directory.\n",
    "\n",
    "To be able to use config file, please also make sure you have `yaml` installed.\n",
    "`pip install pyyaml`"
   ]
  },
  {
   "cell_type": "code",
   "execution_count": 1,
   "id": "8a3ac1b3-6489-4061-9da3-13a6d26fe624",
   "metadata": {},
   "outputs": [],
   "source": [
    "# Read yaml file\n",
    "\n",
    "import yaml\n",
    "\n",
    "with open('../config/config.yaml', 'r') as f:\n",
    "    config = yaml.load(f, Loader=yaml.SafeLoader)"
   ]
  },
  {
   "cell_type": "code",
   "execution_count": 2,
   "id": "a6fdf728",
   "metadata": {},
   "outputs": [],
   "source": [
    "# Load libraries\n",
    "\n",
    "import Topyfic\n",
    "import pandas as pd\n",
    "import scanpy as sc\n",
    "import numpy as np"
   ]
  },
  {
   "cell_type": "code",
   "execution_count": 3,
   "id": "eec5130f",
   "metadata": {},
   "outputs": [
    {
     "data": {
      "text/plain": [
       "AnnData object with n_obs × n_vars = 247072 × 2665\n",
       "    obs: 'bc', 'subpool', 'bc2_3_sequence', 'bc1_index', 'bc3_sequence', 'bc2_sequence', 'bc1_sequence', 'bc1_well', 'Mouse_Tissue_ID', 'plate', 'Protocol', 'Chemistry', 'well_type', 'Multiplexed_sample1', 'Multiplexed_sample2', 'Row', 'Column', 'Genotype', 'SampleType', 'Tissue', 'Sex', 'Age', 'Notes', 'DOB', 'Age_days', 'Body_weight_g', 'Estrus_cycle', 'Dissection_date', 'Dissection_time', 'Dissector', 'Tissue_weight_mg', 'mult_genotype_1', 'mult_genotype_2', 'mult_genotype', 'batch', 'Mouse_ID', 'n_genes_by_counts', 'total_counts', 'total_counts_mt', 'pct_counts_mt', 'n_counts', 'n_genes', 'Experiment', 'leiden', 'general_celltype', 'general_CL_ID', 'celltype', 'CL_ID', 'subtype'\n",
       "    var: 'assay', 'mt', 'gene_name-2', 'n_cells_by_counts-2', 'mean_counts-2', 'pct_dropout_by_counts-2', 'total_counts-2', 'gene_id-2', 'highly_variable', 'means', 'dispersions', 'dispersions_norm', 'gene_name-0', 'n_cells_by_counts-0', 'mean_counts-0', 'pct_dropout_by_counts-0', 'total_counts-0', 'gene_name-1', 'n_cells_by_counts-1', 'mean_counts-1', 'pct_dropout_by_counts-1', 'total_counts-1', 'gene_id-1'\n",
       "    obsm: 'X_pca', 'X_pca_harmony', 'X_umap'\n",
       "    layers: 'raw_counts'"
      ]
     },
     "execution_count": 3,
     "metadata": {},
     "output_type": "execute_result"
    }
   ],
   "source": [
    "# Read and concate input adata(s)\n",
    "\n",
    "adata = None\n",
    "if isinstance(config['count_adata'], str):\n",
    "    adata = sc.read_h5ad(config['count_adata'])\n",
    "else:\n",
    "    for adata_name in config['count_adata'].keys():\n",
    "        tmp = sc.read_h5ad(config['count_adata'][adata_name])\n",
    "        if adata is None:\n",
    "            adata = sc.read_h5ad(config['count_adata'][adata_name])\n",
    "        else:\n",
    "            adata = adata.concatenate(tmp)\n",
    "adata"
   ]
  },
  {
   "cell_type": "markdown",
   "id": "182eab7d",
   "metadata": {},
   "source": [
    "## Read topmodel and analysis models"
   ]
  },
  {
   "cell_type": "code",
   "execution_count": 8,
   "id": "5d31228d",
   "metadata": {},
   "outputs": [
    {
     "ename": "SyntaxError",
     "evalue": "f-string: unmatched '[' (480013674.py, line 6)",
     "output_type": "error",
     "traceback": [
      "\u001b[0;36m  Cell \u001b[0;32mIn[8], line 6\u001b[0;36m\u001b[0m\n\u001b[0;31m    file_name=f'{config['workdir']}/figures/cluster_contribution')\u001b[0m\n\u001b[0m                         ^\u001b[0m\n\u001b[0;31mSyntaxError\u001b[0m\u001b[0;31m:\u001b[0m f-string: unmatched '['\n"
     ]
    }
   ],
   "source": [
    "clustering = pd.read_csv(f\"{config['workdir']}/topic_cluster_mapping.csv\", index_col=0)\n",
    "Topyfic.plot_cluster_contribution(clustering,\n",
    "                                  portion=True,\n",
    "                                  feature=\"assays\",\n",
    "                                  file_format=\"png\",\n",
    "                                  file_name=f'{config['workdir']}/figures/cluster_contribution')"
   ]
  },
  {
   "cell_type": "code",
   "execution_count": 10,
   "id": "42e39a23-2bc9-48ca-8632-20c0389faaed",
   "metadata": {},
   "outputs": [
    {
     "data": {
      "text/plain": [
       "{'n_jobs': 8,\n",
       " 'names': ['parse', '10x'],\n",
       " 'count_adata': {'parse': '/Users/nargesrezaie/Documents/MortazaviLab/Topyfic/workflow/snakemake/resources/Bridge_LeftCortex_Parse_harmony_annotated_Topyfic_regGene.h5ad',\n",
       "  '10x': '/Users/nargesrezaie/Documents/MortazaviLab/Topyfic/workflow/snakemake/resources/Bridge_LeftCortex_10x_harmony_annotated_Topyfic_regGene.h5ad'},\n",
       " 'n_topics': [5, 10],\n",
       " 'organism': 'mouse',\n",
       " 'workdir': '/Users/nargesrezaie/Documents/MortazaviLab/Topyfic/workflow/snakemake/results/',\n",
       " 'train': {'n_runs': 100,\n",
       "  'random_states': [0,\n",
       "   1,\n",
       "   2,\n",
       "   3,\n",
       "   4,\n",
       "   5,\n",
       "   6,\n",
       "   7,\n",
       "   8,\n",
       "   9,\n",
       "   10,\n",
       "   11,\n",
       "   12,\n",
       "   13,\n",
       "   14,\n",
       "   15,\n",
       "   16,\n",
       "   17,\n",
       "   18,\n",
       "   19,\n",
       "   20,\n",
       "   21,\n",
       "   22,\n",
       "   23,\n",
       "   24,\n",
       "   25,\n",
       "   26,\n",
       "   27,\n",
       "   28,\n",
       "   29,\n",
       "   30,\n",
       "   31,\n",
       "   32,\n",
       "   33,\n",
       "   34,\n",
       "   35,\n",
       "   36,\n",
       "   37,\n",
       "   38,\n",
       "   39,\n",
       "   40,\n",
       "   41,\n",
       "   42,\n",
       "   43,\n",
       "   44,\n",
       "   45,\n",
       "   46,\n",
       "   47,\n",
       "   48,\n",
       "   49,\n",
       "   50,\n",
       "   51,\n",
       "   52,\n",
       "   53,\n",
       "   54,\n",
       "   55,\n",
       "   56,\n",
       "   57,\n",
       "   58,\n",
       "   59,\n",
       "   60,\n",
       "   61,\n",
       "   62,\n",
       "   63,\n",
       "   64,\n",
       "   65,\n",
       "   66,\n",
       "   67,\n",
       "   68,\n",
       "   69,\n",
       "   70,\n",
       "   71,\n",
       "   72,\n",
       "   73,\n",
       "   74,\n",
       "   75,\n",
       "   76,\n",
       "   77,\n",
       "   78,\n",
       "   79,\n",
       "   80,\n",
       "   81,\n",
       "   82,\n",
       "   83,\n",
       "   84,\n",
       "   85,\n",
       "   86,\n",
       "   87,\n",
       "   88,\n",
       "   89,\n",
       "   90,\n",
       "   91,\n",
       "   92,\n",
       "   93,\n",
       "   94,\n",
       "   95,\n",
       "   96,\n",
       "   97,\n",
       "   98,\n",
       "   99]},\n",
       " 'top_model': {'n_top_genes': 50,\n",
       "  'resolution': 1,\n",
       "  'max_iter_harmony': 10,\n",
       "  'min_cell_participation': 'None'},\n",
       " 'merge': True}"
      ]
     },
     "execution_count": 10,
     "metadata": {},
     "output_type": "execute_result"
    }
   ],
   "source": [
    "config"
   ]
  },
  {
   "cell_type": "markdown",
   "id": "f72d17c3",
   "metadata": {},
   "source": [
    "Rest of the analysis inclusing creating analysis object and downstream analysis will be similar to the other toturials."
   ]
  }
 ],
 "metadata": {
  "kernelspec": {
   "display_name": "Python 3 (ipykernel)",
   "language": "python",
   "name": "python3"
  },
  "language_info": {
   "codemirror_mode": {
    "name": "ipython",
    "version": 3
   },
   "file_extension": ".py",
   "mimetype": "text/x-python",
   "name": "python",
   "nbconvert_exporter": "python",
   "pygments_lexer": "ipython3",
   "version": "3.10.14"
  }
 },
 "nbformat": 4,
 "nbformat_minor": 5
}
