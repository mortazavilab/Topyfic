{
 "cells": [
  {
   "cell_type": "markdown",
   "id": "7ec5e007",
   "metadata": {},
   "source": [
    "# Topyfic Downstream Analysis\n",
    "\n",
    "### *Narges Rezaie*\n",
    "#### Vignette built on Aug, 2024 with Topyfic version 0.4.13.\n",
    "\n",
    "The aim of this tutorials is to show how to perform downstream analysis after running the [Snakemake pipeline]().\n",
    "\n",
    "## Snakemake pipeline\n",
    "You should run snakemake first and decide which #topic you want to go with. You also need to make sure that you have `train`, `topModel`, and `analysis` objects in your directory.\n",
    "\n",
    "To be able to use config file, please also make sure you have `yaml` installed.\n",
    "`pip install pyyaml`"
   ]
  },
  {
   "cell_type": "code",
   "execution_count": 18,
   "id": "8a3ac1b3-6489-4061-9da3-13a6d26fe624",
   "metadata": {},
   "outputs": [],
   "source": [
    "# Read yaml file\n",
    "\n",
    "import yaml\n",
    "\n",
    "with open('../config/config.yaml', 'r') as f:\n",
    "    config = yaml.load(f, Loader=yaml.SafeLoader)"
   ]
  },
  {
   "cell_type": "code",
   "execution_count": 3,
   "id": "a6fdf728",
   "metadata": {},
   "outputs": [],
   "source": [
    "# Load libraries\n",
    "\n",
    "import Topyfic\n",
    "import pandas as pd\n",
    "import scanpy as sc\n",
    "import numpy as np"
   ]
  },
  {
   "cell_type": "code",
   "execution_count": 16,
   "id": "eec5130f",
   "metadata": {},
   "outputs": [
    {
     "name": "stdout",
     "output_type": "stream",
     "text": [
      "/Users/nargesrezaie/Documents/MortazaviLab/Topyfic/workflow/snakemake/resources/Bridge_LeftCortex_Parse_harmony_annotated_Topyfic_regGene.h5ad\n",
      "/Users/nargesrezaie/Documents/MortazaviLab/Topyfic/workflow/snakemake/resources/Bridge_LeftCortex_10x_harmony_annotated_Topyfic_regGene.h5ad\n"
     ]
    },
    {
     "data": {
      "text/plain": [
       "AnnData object with n_obs × n_vars = 247072 × 2665\n",
       "    obs: 'bc', 'subpool', 'bc2_3_sequence', 'bc1_index', 'bc3_sequence', 'bc2_sequence', 'bc1_sequence', 'bc1_well', 'Mouse_Tissue_ID', 'plate', 'Protocol', 'Chemistry', 'well_type', 'Multiplexed_sample1', 'Multiplexed_sample2', 'Row', 'Column', 'Genotype', 'SampleType', 'Tissue', 'Sex', 'Age', 'Notes', 'DOB', 'Age_days', 'Body_weight_g', 'Estrus_cycle', 'Dissection_date', 'Dissection_time', 'Dissector', 'Tissue_weight_mg', 'mult_genotype_1', 'mult_genotype_2', 'mult_genotype', 'batch', 'Mouse_ID', 'n_genes_by_counts', 'total_counts', 'total_counts_mt', 'pct_counts_mt', 'n_counts', 'n_genes', 'Experiment', 'leiden', 'general_celltype', 'general_CL_ID', 'celltype', 'CL_ID', 'subtype'\n",
       "    var: 'assay', 'mt', 'gene_name-2', 'n_cells_by_counts-2', 'mean_counts-2', 'pct_dropout_by_counts-2', 'total_counts-2', 'gene_id-2', 'highly_variable', 'means', 'dispersions', 'dispersions_norm', 'gene_name-0', 'n_cells_by_counts-0', 'mean_counts-0', 'pct_dropout_by_counts-0', 'total_counts-0', 'gene_name-1', 'n_cells_by_counts-1', 'mean_counts-1', 'pct_dropout_by_counts-1', 'total_counts-1', 'gene_id-1'\n",
       "    obsm: 'X_pca', 'X_pca_harmony', 'X_umap'\n",
       "    layers: 'raw_counts'"
      ]
     },
     "execution_count": 16,
     "metadata": {},
     "output_type": "execute_result"
    }
   ],
   "source": [
    "# Read and concate input adata(s)\n",
    "\n",
    "adata = None\n",
    "if isinstance(config['count_adata'], str):\n",
    "    adata = sc.read_h5ad(config['count_adata'])\n",
    "else:\n",
    "    for adata_name in config['count_adata'].keys():\n",
    "        tmp = sc.read_h5ad(config['count_adata'][adata_name])\n",
    "        if adata is None:\n",
    "            adata = sc.read_h5ad(config['count_adata'][adata_name])\n",
    "        else:\n",
    "            adata = adata.concatenate(tmp)\n",
    "adata"
   ]
  },
  {
   "cell_type": "markdown",
   "id": "182eab7d",
   "metadata": {},
   "source": [
    "## Read topmodel and analysis models"
   ]
  },
  {
   "cell_type": "code",
   "execution_count": 5,
   "id": "5d31228d",
   "metadata": {},
   "outputs": [
    {
     "data": {
      "image/png": "[encoded data removed]",
      "text/plain": [
       "<Figure size 700x700 with 1 Axes>"
      ]
     },
     "metadata": {},
     "output_type": "display_data"
    }
   ],
   "source": [
    "clustering = pd.read_csv(f\"{config['top_model']['workdir']}/topic_cluster_mapping.csv\", index_col=0)\n",
    "Topyfic.plot_cluster_contribution(clustering,\n",
    "                                  portion=True,\n",
    "                                  feature=\"assays\",\n",
    "                                  file_format=\"png\",\n",
    "                                  file_name=f'{config['top_model']['workdir']}/figures/cluster_contribution')"
   ]
  },
  {
   "cell_type": "markdown",
   "id": "f72d17c3",
   "metadata": {},
   "source": [
    "Rest of the analysis inclusing creating analysis object and downstream analysis will be similar to the other toturials."
   ]
  }
 ],
 "metadata": {
  "kernelspec": {
   "display_name": "Python 3 (ipykernel)",
   "language": "python",
   "name": "python3"
  },
  "language_info": {
   "codemirror_mode": {
    "name": "ipython",
    "version": 3
   },
   "file_extension": ".py",
   "mimetype": "text/x-python",
   "name": "python",
   "nbconvert_exporter": "python",
   "pygments_lexer": "ipython3",
   "version": "3.10.14"
  }
 },
 "nbformat": 4,
 "nbformat_minor": 5
}
